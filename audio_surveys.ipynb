{
 "cells": [
  {
   "cell_type": "code",
   "execution_count": 1,
   "metadata": {},
   "outputs": [
    {
     "name": "stderr",
     "output_type": "stream",
     "text": [
      "/Users/rorosan/deep_learning/dl/lib/python3.11/site-packages/tqdm/auto.py:21: TqdmWarning: IProgress not found. Please update jupyter and ipywidgets. See https://ipywidgets.readthedocs.io/en/stable/user_install.html\n",
      "  from .autonotebook import tqdm as notebook_tqdm\n"
     ]
    },
    {
     "ename": "OSError",
     "evalue": "cannot load library '/Users/rorosan/deep_learning/dl/lib/python3.11/site-packages/_soundfile_data/libsndfile.dylib': dlopen(/Users/rorosan/deep_learning/dl/lib/python3.11/site-packages/_soundfile_data/libsndfile.dylib, 0x0002): tried: '/Users/rorosan/deep_learning/dl/lib/python3.11/site-packages/_soundfile_data/libsndfile.dylib' (no such file), '/System/Volumes/Preboot/Cryptexes/OS/Users/rorosan/deep_learning/dl/lib/python3.11/site-packages/_soundfile_data/libsndfile.dylib' (no such file), '/Users/rorosan/deep_learning/dl/lib/python3.11/site-packages/_soundfile_data/libsndfile.dylib' (no such file).  Additionally, ctypes.util.find_library() did not manage to locate a library called '/Users/rorosan/deep_learning/dl/lib/python3.11/site-packages/_soundfile_data/libsndfile.dylib'",
     "output_type": "error",
     "traceback": [
      "\u001b[0;31m---------------------------------------------------------------------------\u001b[0m",
      "\u001b[0;31mOSError\u001b[0m                                   Traceback (most recent call last)",
      "File \u001b[0;32m~/deep_learning/dl/lib/python3.11/site-packages/soundfile.py:267\u001b[0m\n\u001b[1;32m    266\u001b[0m \u001b[39mtry\u001b[39;00m:\n\u001b[0;32m--> 267\u001b[0m     _snd \u001b[39m=\u001b[39m _ffi\u001b[39m.\u001b[39;49mdlopen(\u001b[39m'\u001b[39;49m\u001b[39msndfile\u001b[39;49m\u001b[39m'\u001b[39;49m)\n\u001b[1;32m    268\u001b[0m \u001b[39mexcept\u001b[39;00m \u001b[39mOSError\u001b[39;00m:\n",
      "File \u001b[0;32m~/deep_learning/dl/lib/python3.11/site-packages/cffi/api.py:150\u001b[0m, in \u001b[0;36mFFI.dlopen\u001b[0;34m(self, name, flags)\u001b[0m\n\u001b[1;32m    149\u001b[0m \u001b[39mwith\u001b[39;00m \u001b[39mself\u001b[39m\u001b[39m.\u001b[39m_lock:\n\u001b[0;32m--> 150\u001b[0m     lib, function_cache \u001b[39m=\u001b[39m _make_ffi_library(\u001b[39mself\u001b[39;49m, name, flags)\n\u001b[1;32m    151\u001b[0m     \u001b[39mself\u001b[39m\u001b[39m.\u001b[39m_function_caches\u001b[39m.\u001b[39mappend(function_cache)\n",
      "File \u001b[0;32m~/deep_learning/dl/lib/python3.11/site-packages/cffi/api.py:832\u001b[0m, in \u001b[0;36m_make_ffi_library\u001b[0;34m(ffi, libname, flags)\u001b[0m\n\u001b[1;32m    831\u001b[0m backend \u001b[39m=\u001b[39m ffi\u001b[39m.\u001b[39m_backend\n\u001b[0;32m--> 832\u001b[0m backendlib \u001b[39m=\u001b[39m _load_backend_lib(backend, libname, flags)\n\u001b[1;32m    833\u001b[0m \u001b[39m#\u001b[39;00m\n",
      "File \u001b[0;32m~/deep_learning/dl/lib/python3.11/site-packages/cffi/api.py:827\u001b[0m, in \u001b[0;36m_load_backend_lib\u001b[0;34m(backend, name, flags)\u001b[0m\n\u001b[1;32m    826\u001b[0m         msg \u001b[39m=\u001b[39m \u001b[39m\"\u001b[39m\u001b[39m%s\u001b[39;00m\u001b[39m.  Additionally, \u001b[39m\u001b[39m%s\u001b[39;00m\u001b[39m\"\u001b[39m \u001b[39m%\u001b[39m (first_error, msg)\n\u001b[0;32m--> 827\u001b[0m     \u001b[39mraise\u001b[39;00m \u001b[39mOSError\u001b[39;00m(msg)\n\u001b[1;32m    828\u001b[0m \u001b[39mreturn\u001b[39;00m backend\u001b[39m.\u001b[39mload_library(path, flags)\n",
      "\u001b[0;31mOSError\u001b[0m: ctypes.util.find_library() did not manage to locate a library called 'sndfile'",
      "\nDuring handling of the above exception, another exception occurred:\n",
      "\u001b[0;31mOSError\u001b[0m                                   Traceback (most recent call last)",
      "\u001b[1;32m/Users/rorosan/deep_learning/Projects/audio_surveys.ipynb Cell 1\u001b[0m line \u001b[0;36m2\n\u001b[1;32m      <a href='vscode-notebook-cell:/Users/rorosan/deep_learning/Projects/audio_surveys.ipynb#W0sZmlsZQ%3D%3D?line=0'>1</a>\u001b[0m \u001b[39mfrom\u001b[39;00m \u001b[39mtransformers\u001b[39;00m \u001b[39mimport\u001b[39;00m WhisperProcessor, WhisperForConditionalGeneration\n\u001b[0;32m----> <a href='vscode-notebook-cell:/Users/rorosan/deep_learning/Projects/audio_surveys.ipynb#W0sZmlsZQ%3D%3D?line=1'>2</a>\u001b[0m \u001b[39mfrom\u001b[39;00m \u001b[39mdatasets\u001b[39;00m \u001b[39mimport\u001b[39;00m Audio, load_dataset\n",
      "File \u001b[0;32m~/deep_learning/dl/lib/python3.11/site-packages/datasets/__init__.py:22\u001b[0m\n\u001b[1;32m      1\u001b[0m \u001b[39m# flake8: noqa\u001b[39;00m\n\u001b[1;32m      2\u001b[0m \u001b[39m# Copyright 2020 The HuggingFace Datasets Authors and the TensorFlow Datasets Authors.\u001b[39;00m\n\u001b[1;32m      3\u001b[0m \u001b[39m#\u001b[39;00m\n\u001b[0;32m   (...)\u001b[0m\n\u001b[1;32m     17\u001b[0m \u001b[39m# pylint: enable=line-too-long\u001b[39;00m\n\u001b[1;32m     18\u001b[0m \u001b[39m# pylint: disable=g-import-not-at-top,g-bad-import-order,wrong-import-position\u001b[39;00m\n\u001b[1;32m     20\u001b[0m __version__ \u001b[39m=\u001b[39m \u001b[39m\"\u001b[39m\u001b[39m2.14.5\u001b[39m\u001b[39m\"\u001b[39m\n\u001b[0;32m---> 22\u001b[0m \u001b[39mfrom\u001b[39;00m \u001b[39m.\u001b[39;00m\u001b[39marrow_dataset\u001b[39;00m \u001b[39mimport\u001b[39;00m Dataset\n\u001b[1;32m     23\u001b[0m \u001b[39mfrom\u001b[39;00m \u001b[39m.\u001b[39;00m\u001b[39marrow_reader\u001b[39;00m \u001b[39mimport\u001b[39;00m ReadInstruction\n\u001b[1;32m     24\u001b[0m \u001b[39mfrom\u001b[39;00m \u001b[39m.\u001b[39;00m\u001b[39mbuilder\u001b[39;00m \u001b[39mimport\u001b[39;00m ArrowBasedBuilder, BeamBasedBuilder, BuilderConfig, DatasetBuilder, GeneratorBasedBuilder\n",
      "File \u001b[0;32m~/deep_learning/dl/lib/python3.11/site-packages/datasets/arrow_dataset.py:65\u001b[0m\n\u001b[1;32m     62\u001b[0m \u001b[39mfrom\u001b[39;00m \u001b[39mmultiprocess\u001b[39;00m \u001b[39mimport\u001b[39;00m Pool\n\u001b[1;32m     63\u001b[0m \u001b[39mfrom\u001b[39;00m \u001b[39mrequests\u001b[39;00m \u001b[39mimport\u001b[39;00m HTTPError\n\u001b[0;32m---> 65\u001b[0m \u001b[39mfrom\u001b[39;00m \u001b[39m.\u001b[39;00m \u001b[39mimport\u001b[39;00m config\n\u001b[1;32m     66\u001b[0m \u001b[39mfrom\u001b[39;00m \u001b[39m.\u001b[39;00m\u001b[39marrow_reader\u001b[39;00m \u001b[39mimport\u001b[39;00m ArrowReader\n\u001b[1;32m     67\u001b[0m \u001b[39mfrom\u001b[39;00m \u001b[39m.\u001b[39;00m\u001b[39marrow_writer\u001b[39;00m \u001b[39mimport\u001b[39;00m ArrowWriter, OptimizedTypedSequence\n",
      "File \u001b[0;32m~/deep_learning/dl/lib/python3.11/site-packages/datasets/config.py:131\u001b[0m\n\u001b[1;32m    128\u001b[0m \u001b[39m# Optional tools for feature decoding\u001b[39;00m\n\u001b[1;32m    129\u001b[0m PIL_AVAILABLE \u001b[39m=\u001b[39m importlib\u001b[39m.\u001b[39mutil\u001b[39m.\u001b[39mfind_spec(\u001b[39m\"\u001b[39m\u001b[39mPIL\u001b[39m\u001b[39m\"\u001b[39m) \u001b[39mis\u001b[39;00m \u001b[39mnot\u001b[39;00m \u001b[39mNone\u001b[39;00m\n\u001b[1;32m    130\u001b[0m IS_OPUS_SUPPORTED \u001b[39m=\u001b[39m importlib\u001b[39m.\u001b[39mutil\u001b[39m.\u001b[39mfind_spec(\u001b[39m\"\u001b[39m\u001b[39msoundfile\u001b[39m\u001b[39m\"\u001b[39m) \u001b[39mis\u001b[39;00m \u001b[39mnot\u001b[39;00m \u001b[39mNone\u001b[39;00m \u001b[39mand\u001b[39;00m version\u001b[39m.\u001b[39mparse(\n\u001b[0;32m--> 131\u001b[0m     importlib\u001b[39m.\u001b[39;49mimport_module(\u001b[39m\"\u001b[39;49m\u001b[39msoundfile\u001b[39;49m\u001b[39m\"\u001b[39;49m)\u001b[39m.\u001b[39m__libsndfile_version__\n\u001b[1;32m    132\u001b[0m ) \u001b[39m>\u001b[39m\u001b[39m=\u001b[39m version\u001b[39m.\u001b[39mparse(\u001b[39m\"\u001b[39m\u001b[39m1.0.31\u001b[39m\u001b[39m\"\u001b[39m)\n\u001b[1;32m    133\u001b[0m IS_MP3_SUPPORTED \u001b[39m=\u001b[39m importlib\u001b[39m.\u001b[39mutil\u001b[39m.\u001b[39mfind_spec(\u001b[39m\"\u001b[39m\u001b[39msoundfile\u001b[39m\u001b[39m\"\u001b[39m) \u001b[39mis\u001b[39;00m \u001b[39mnot\u001b[39;00m \u001b[39mNone\u001b[39;00m \u001b[39mand\u001b[39;00m version\u001b[39m.\u001b[39mparse(\n\u001b[1;32m    134\u001b[0m     importlib\u001b[39m.\u001b[39mimport_module(\u001b[39m\"\u001b[39m\u001b[39msoundfile\u001b[39m\u001b[39m\"\u001b[39m)\u001b[39m.\u001b[39m__libsndfile_version__\n\u001b[1;32m    135\u001b[0m ) \u001b[39m>\u001b[39m\u001b[39m=\u001b[39m version\u001b[39m.\u001b[39mparse(\u001b[39m\"\u001b[39m\u001b[39m1.1.0\u001b[39m\u001b[39m\"\u001b[39m)\n\u001b[1;32m    137\u001b[0m \u001b[39m# Optional compression tools\u001b[39;00m\n",
      "File \u001b[0;32m/opt/homebrew/Cellar/python@3.11/3.11.2_1/Frameworks/Python.framework/Versions/3.11/lib/python3.11/importlib/__init__.py:126\u001b[0m, in \u001b[0;36mimport_module\u001b[0;34m(name, package)\u001b[0m\n\u001b[1;32m    124\u001b[0m             \u001b[39mbreak\u001b[39;00m\n\u001b[1;32m    125\u001b[0m         level \u001b[39m+\u001b[39m\u001b[39m=\u001b[39m \u001b[39m1\u001b[39m\n\u001b[0;32m--> 126\u001b[0m \u001b[39mreturn\u001b[39;00m _bootstrap\u001b[39m.\u001b[39;49m_gcd_import(name[level:], package, level)\n",
      "File \u001b[0;32m~/deep_learning/dl/lib/python3.11/site-packages/soundfile.py:276\u001b[0m\n\u001b[1;32m    274\u001b[0m     \u001b[39melse\u001b[39;00m:\n\u001b[1;32m    275\u001b[0m         \u001b[39mraise\u001b[39;00m\n\u001b[0;32m--> 276\u001b[0m     _snd \u001b[39m=\u001b[39m _ffi\u001b[39m.\u001b[39;49mdlopen(_os\u001b[39m.\u001b[39;49mpath\u001b[39m.\u001b[39;49mjoin(\n\u001b[1;32m    277\u001b[0m         _os\u001b[39m.\u001b[39;49mpath\u001b[39m.\u001b[39;49mdirname(_os\u001b[39m.\u001b[39;49mpath\u001b[39m.\u001b[39;49mabspath(\u001b[39m__file__\u001b[39;49m)),\n\u001b[1;32m    278\u001b[0m         \u001b[39m'\u001b[39;49m\u001b[39m_soundfile_data\u001b[39;49m\u001b[39m'\u001b[39;49m, _libname))\n\u001b[1;32m    280\u001b[0m __libsndfile_version__ \u001b[39m=\u001b[39m _ffi\u001b[39m.\u001b[39mstring(_snd\u001b[39m.\u001b[39msf_version_string())\u001b[39m.\u001b[39mdecode(\u001b[39m'\u001b[39m\u001b[39mutf-8\u001b[39m\u001b[39m'\u001b[39m, \u001b[39m'\u001b[39m\u001b[39mreplace\u001b[39m\u001b[39m'\u001b[39m)\n\u001b[1;32m    281\u001b[0m \u001b[39mif\u001b[39;00m __libsndfile_version__\u001b[39m.\u001b[39mstartswith(\u001b[39m'\u001b[39m\u001b[39mlibsndfile-\u001b[39m\u001b[39m'\u001b[39m):\n",
      "File \u001b[0;32m~/deep_learning/dl/lib/python3.11/site-packages/cffi/api.py:150\u001b[0m, in \u001b[0;36mFFI.dlopen\u001b[0;34m(self, name, flags)\u001b[0m\n\u001b[1;32m    147\u001b[0m     \u001b[39mraise\u001b[39;00m \u001b[39mTypeError\u001b[39;00m(\u001b[39m\"\u001b[39m\u001b[39mdlopen(name): name must be a file name, None, \u001b[39m\u001b[39m\"\u001b[39m\n\u001b[1;32m    148\u001b[0m                     \u001b[39m\"\u001b[39m\u001b[39mor an already-opened \u001b[39m\u001b[39m'\u001b[39m\u001b[39mvoid *\u001b[39m\u001b[39m'\u001b[39m\u001b[39m handle\u001b[39m\u001b[39m\"\u001b[39m)\n\u001b[1;32m    149\u001b[0m \u001b[39mwith\u001b[39;00m \u001b[39mself\u001b[39m\u001b[39m.\u001b[39m_lock:\n\u001b[0;32m--> 150\u001b[0m     lib, function_cache \u001b[39m=\u001b[39m _make_ffi_library(\u001b[39mself\u001b[39;49m, name, flags)\n\u001b[1;32m    151\u001b[0m     \u001b[39mself\u001b[39m\u001b[39m.\u001b[39m_function_caches\u001b[39m.\u001b[39mappend(function_cache)\n\u001b[1;32m    152\u001b[0m     \u001b[39mself\u001b[39m\u001b[39m.\u001b[39m_libraries\u001b[39m.\u001b[39mappend(lib)\n",
      "File \u001b[0;32m~/deep_learning/dl/lib/python3.11/site-packages/cffi/api.py:832\u001b[0m, in \u001b[0;36m_make_ffi_library\u001b[0;34m(ffi, libname, flags)\u001b[0m\n\u001b[1;32m    830\u001b[0m \u001b[39mdef\u001b[39;00m \u001b[39m_make_ffi_library\u001b[39m(ffi, libname, flags):\n\u001b[1;32m    831\u001b[0m     backend \u001b[39m=\u001b[39m ffi\u001b[39m.\u001b[39m_backend\n\u001b[0;32m--> 832\u001b[0m     backendlib \u001b[39m=\u001b[39m _load_backend_lib(backend, libname, flags)\n\u001b[1;32m    833\u001b[0m     \u001b[39m#\u001b[39;00m\n\u001b[1;32m    834\u001b[0m     \u001b[39mdef\u001b[39;00m \u001b[39maccessor_function\u001b[39m(name):\n",
      "File \u001b[0;32m~/deep_learning/dl/lib/python3.11/site-packages/cffi/api.py:827\u001b[0m, in \u001b[0;36m_load_backend_lib\u001b[0;34m(backend, name, flags)\u001b[0m\n\u001b[1;32m    825\u001b[0m     \u001b[39mif\u001b[39;00m first_error \u001b[39mis\u001b[39;00m \u001b[39mnot\u001b[39;00m \u001b[39mNone\u001b[39;00m:\n\u001b[1;32m    826\u001b[0m         msg \u001b[39m=\u001b[39m \u001b[39m\"\u001b[39m\u001b[39m%s\u001b[39;00m\u001b[39m.  Additionally, \u001b[39m\u001b[39m%s\u001b[39;00m\u001b[39m\"\u001b[39m \u001b[39m%\u001b[39m (first_error, msg)\n\u001b[0;32m--> 827\u001b[0m     \u001b[39mraise\u001b[39;00m \u001b[39mOSError\u001b[39;00m(msg)\n\u001b[1;32m    828\u001b[0m \u001b[39mreturn\u001b[39;00m backend\u001b[39m.\u001b[39mload_library(path, flags)\n",
      "\u001b[0;31mOSError\u001b[0m: cannot load library '/Users/rorosan/deep_learning/dl/lib/python3.11/site-packages/_soundfile_data/libsndfile.dylib': dlopen(/Users/rorosan/deep_learning/dl/lib/python3.11/site-packages/_soundfile_data/libsndfile.dylib, 0x0002): tried: '/Users/rorosan/deep_learning/dl/lib/python3.11/site-packages/_soundfile_data/libsndfile.dylib' (no such file), '/System/Volumes/Preboot/Cryptexes/OS/Users/rorosan/deep_learning/dl/lib/python3.11/site-packages/_soundfile_data/libsndfile.dylib' (no such file), '/Users/rorosan/deep_learning/dl/lib/python3.11/site-packages/_soundfile_data/libsndfile.dylib' (no such file).  Additionally, ctypes.util.find_library() did not manage to locate a library called '/Users/rorosan/deep_learning/dl/lib/python3.11/site-packages/_soundfile_data/libsndfile.dylib'"
     ]
    }
   ],
   "source": [
    "from transformers import WhisperProcessor, WhisperForConditionalGeneration\n",
    "from datasets import Audio, load_dataset"
   ]
  },
  {
   "cell_type": "code",
   "execution_count": null,
   "metadata": {},
   "outputs": [],
   "source": [
    "#The idea is to build here a audio only survey software, using opensource packages to gen this, and put the model\n",
    "#on streamlit.io\n",
    " using datasets library to work"
   ]
  },
  {
   "cell_type": "code",
   "execution_count": null,
   "metadata": {},
   "outputs": [],
   "source": [
    "from transformers import WhisperProcessor, WhisperForConditionalGeneration\n",
    "from datasets import load_dataset\n",
    "\n",
    "# load model and processor\n",
    "processor = WhisperProcessor.from_pretrained(\"openai/whisper-large-v2\")\n",
    "model = WhisperForConditionalGeneration.from_pretrained(\"openai/whisper-large-v2\")\n",
    "model.config.forced_decoder_ids = None\n",
    "\n",
    "# load dummy dataset and read audio files\n",
    "ds = load_dataset(\"hf-internal-testing/librispeech_asr_dummy\", \"clean\", split=\"validation\")\n",
    "sample = ds[0][\"audio\"]\n",
    "input_features = processor(sample[\"array\"], sampling_rate=sample[\"sampling_rate\"], return_tensors=\"pt\").input_features \n",
    "\n",
    "# generate token ids\n",
    "predicted_ids = model.generate(input_features)\n",
    "# decode token ids to text\n",
    "transcription = processor.batch_decode(predicted_ids, skip_special_tokens=False)\n",
    "\n",
    "transcription = processor.batch_decode(predicted_ids, skip_special_tokens=True)\n"
   ]
  },
  {
   "cell_type": "code",
   "execution_count": null,
   "metadata": {},
   "outputs": [],
   "source": [
    "from transformers import WhisperProcessor, WhisperForConditionalGeneration\n",
    "from datasets import Audio, load_dataset\n",
    "\n",
    "# load model and processor\n",
    "processor = WhisperProcessor.from_pretrained(\"openai/whisper-large-v2\")\n",
    "model = WhisperForConditionalGeneration.from_pretrained(\"openai/whisper-large-v2\")\n",
    "forced_decoder_ids = processor.get_decoder_prompt_ids(language=\"french\", task=\"transcribe\")\n",
    "\n",
    "# load streaming dataset and read first audio sample\n",
    "ds = load_dataset(\"common_voice\", \"fr\", split=\"test\", streaming=True)\n",
    "ds = ds.cast_column(\"audio\", Audio(sampling_rate=16_000))\n",
    "input_speech = next(iter(ds))[\"audio\"]\n",
    "input_features = processor(input_speech[\"array\"], sampling_rate=input_speech[\"sampling_rate\"], return_tensors=\"pt\").input_features\n",
    "\n",
    "# generate token ids\n",
    "predicted_ids = model.generate(input_features, forced_decoder_ids=forced_decoder_ids)\n",
    "# decode token ids to text\n",
    "transcription = processor.batch_decode(predicted_ids)\n",
    "\n",
    "transcription = processor.batch_decode(predicted_ids, skip_special_tokens=True)\n"
   ]
  }
 ],
 "metadata": {
  "kernelspec": {
   "display_name": ".venv",
   "language": "python",
   "name": "python3"
  },
  "language_info": {
   "codemirror_mode": {
    "name": "ipython",
    "version": 3
   },
   "file_extension": ".py",
   "mimetype": "text/x-python",
   "name": "python",
   "nbconvert_exporter": "python",
   "pygments_lexer": "ipython3",
   "version": "3.11.2"
  }
 },
 "nbformat": 4,
 "nbformat_minor": 2
}
